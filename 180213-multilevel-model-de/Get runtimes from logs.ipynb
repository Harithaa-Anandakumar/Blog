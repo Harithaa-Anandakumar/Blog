{
 "cells": [
  {
   "cell_type": "code",
   "execution_count": 28,
   "metadata": {},
   "outputs": [
    {
     "name": "stdout",
     "output_type": "stream",
     "text": [
      "Populating the interactive namespace from numpy and matplotlib\n"
     ]
    }
   ],
   "source": [
    "%pylab inline\n",
    "import pandas as pd\n",
    "from glob import glob"
   ]
  },
  {
   "cell_type": "code",
   "execution_count": 60,
   "metadata": {},
   "outputs": [],
   "source": [
    "data = {}\n",
    "for fname in glob('slurm-*.out'):\n",
    "    with open(fname) as fh:\n",
    "        fcontent = fh.read()\n",
    "        h1, h2 = fcontent.split('\\nrule ')\n",
    "        start_time = h1.split('\\n')[-1]\n",
    "        rule = h2.split(':\\n')[0]\n",
    "        h3 = h2.split('\\nFinished job')[0]\n",
    "        end_time = h3.split('\\n')[-1]\n",
    "\n",
    "        data[fname] = {'rule': rule,\n",
    "                       'start_time': start_time,\n",
    "                       'end_time': end_time}"
   ]
  },
  {
   "cell_type": "code",
   "execution_count": 61,
   "metadata": {},
   "outputs": [],
   "source": [
    "df = pd.DataFrame(data).T"
   ]
  },
  {
   "cell_type": "code",
   "execution_count": 62,
   "metadata": {},
   "outputs": [],
   "source": [
    "df['minutes'] = df.end_time.str.split(':').str.get(1).astype(int) \\\n",
    "              - df.start_time.str.split(':').str.get(1).astype(int)\n",
    "df['seconds'] = df.end_time.str.split(':').str.get(2).str.split(' ').str.get(0).astype(int) \\\n",
    "              - df.start_time.str.split(':').str.get(2).str.split(' ').str.get(0).astype(int)"
   ]
  },
  {
   "cell_type": "code",
   "execution_count": 63,
   "metadata": {},
   "outputs": [],
   "source": [
    "df['total_seconds'] = df['minutes'] * 60 + df['seconds']"
   ]
  },
  {
   "cell_type": "code",
   "execution_count": 65,
   "metadata": {},
   "outputs": [
    {
     "data": {
      "text/plain": [
       "rule\n",
       "glm_de         19.566667\n",
       "lm_de           3.016667\n",
       "lme_de        134.541667\n",
       "sum_glm_de      2.533333\n",
       "sum_lm_de       1.441667\n",
       "sum_lme_de     19.975000\n",
       "Name: total_seconds, dtype: float64"
      ]
     },
     "execution_count": 65,
     "metadata": {},
     "output_type": "execute_result"
    }
   ],
   "source": [
    "# Each chunk is 1/10th of the genes, and make time into minutes.\n",
    "df.groupby('rule').mean()['total_seconds'] * 10 / 60"
   ]
  },
  {
   "cell_type": "code",
   "execution_count": null,
   "metadata": {},
   "outputs": [],
   "source": []
  },
  {
   "cell_type": "code",
   "execution_count": null,
   "metadata": {},
   "outputs": [],
   "source": []
  },
  {
   "cell_type": "code",
   "execution_count": null,
   "metadata": {},
   "outputs": [],
   "source": []
  },
  {
   "cell_type": "code",
   "execution_count": null,
   "metadata": {},
   "outputs": [],
   "source": []
  },
  {
   "cell_type": "code",
   "execution_count": null,
   "metadata": {},
   "outputs": [],
   "source": []
  },
  {
   "cell_type": "code",
   "execution_count": null,
   "metadata": {},
   "outputs": [],
   "source": []
  },
  {
   "cell_type": "code",
   "execution_count": null,
   "metadata": {},
   "outputs": [],
   "source": []
  },
  {
   "cell_type": "code",
   "execution_count": null,
   "metadata": {},
   "outputs": [],
   "source": []
  }
 ],
 "metadata": {
  "kernelspec": {
   "display_name": "Python 3",
   "language": "python",
   "name": "python3"
  },
  "language_info": {
   "codemirror_mode": {
    "name": "ipython",
    "version": 3
   },
   "file_extension": ".py",
   "mimetype": "text/x-python",
   "name": "python",
   "nbconvert_exporter": "python",
   "pygments_lexer": "ipython3",
   "version": "3.6.3"
  }
 },
 "nbformat": 4,
 "nbformat_minor": 2
}
